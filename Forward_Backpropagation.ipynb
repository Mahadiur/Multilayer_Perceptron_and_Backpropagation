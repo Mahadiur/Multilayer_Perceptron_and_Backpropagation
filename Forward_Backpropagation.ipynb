{
 "cells": [
  {
   "cell_type": "markdown",
   "id": "c4a03e62",
   "metadata": {},
   "source": [
    "### ***Multilayer Perceptron and Backpropagation***"
   ]
  },
  {
   "cell_type": "code",
   "execution_count": 11,
   "id": "4ea1d54f",
   "metadata": {},
   "outputs": [],
   "source": [
    "''' Import all important library '''\n",
    "import torch\n",
    "import torch.nn as nn\n",
    "import torch.optim as gredient\n",
    "from torch.utils.data import DataLoader\n",
    "from torchvision import datasets, transforms"
   ]
  },
  {
   "cell_type": "code",
   "execution_count": 12,
   "id": "2aeb8f66",
   "metadata": {},
   "outputs": [
    {
     "name": "stdout",
     "output_type": "stream",
     "text": [
      "Device Name is cpu\n"
     ]
    }
   ],
   "source": [
    "Device = torch.device('cuda' if torch.cuda.is_available() else 'cpu')\n",
    "print(f'Device Name is {Device}')"
   ]
  },
  {
   "cell_type": "markdown",
   "id": "a206cfbc",
   "metadata": {},
   "source": [
    "### ***Data Pipeline***"
   ]
  },
  {
   "cell_type": "code",
   "execution_count": 13,
   "id": "8e674a13",
   "metadata": {},
   "outputs": [],
   "source": [
    "Transformation = transforms.Compose([\n",
    "    transforms.ToTensor(),\n",
    "    transforms.Normalize(\n",
    "        mean=(0.1307),\n",
    "        std=(0.3181)\n",
    "    )\n",
    "])"
   ]
  },
  {
   "cell_type": "code",
   "execution_count": 14,
   "id": "ec19947b",
   "metadata": {},
   "outputs": [],
   "source": [
    "Train_Dataset = datasets.MNIST(\n",
    "    root='/Users/mahadiur/Desktop/Deep Learning Forward and Backpropagation/Data',\n",
    "    train=True,\n",
    "    download=True,\n",
    "    transform=Transformation\n",
    ")\n",
    "\n",
    "Test_Dataset = datasets.MNIST(\n",
    "    root='/Users/mahadiur/Desktop/Deep Learning Forward and Backpropagation/Data',\n",
    "    train=False,\n",
    "    download=True,\n",
    "    transform=Transformation\n",
    ")"
   ]
  },
  {
   "cell_type": "markdown",
   "id": "d7972685",
   "metadata": {},
   "source": [
    "### ***Dataloader***"
   ]
  },
  {
   "cell_type": "code",
   "execution_count": 15,
   "id": "3e689dae",
   "metadata": {},
   "outputs": [],
   "source": [
    "Train_Dataloader = DataLoader(\n",
    "    Train_Dataset,\n",
    "    batch_size=32,\n",
    "    shuffle=True\n",
    ")\n",
    "\n",
    "Test_Dataloader = DataLoader(\n",
    "    Test_Dataset,\n",
    "    batch_size=32,\n",
    "    shuffle=False\n",
    ")"
   ]
  },
  {
   "cell_type": "markdown",
   "id": "31f77757",
   "metadata": {},
   "source": [
    "### ***Perceptron***"
   ]
  },
  {
   "cell_type": "code",
   "execution_count": 16,
   "id": "ab7051f7",
   "metadata": {},
   "outputs": [],
   "source": [
    "class Perceptron(nn.Module):\n",
    "    def __init__(self, input_size):\n",
    "        super(Perceptron, self).__init__()\n",
    "        self.weights = nn.Parameter(torch.randn(input_size))\n",
    "        self.bias = nn.Parameter(torch.randn(1))\n",
    "    \n",
    "    def forward(self, x):\n",
    "        sumation = x @ self.weights + self.bias\n",
    "        return sumation"
   ]
  },
  {
   "cell_type": "code",
   "execution_count": 17,
   "id": "e8986c1a",
   "metadata": {},
   "outputs": [
    {
     "name": "stdout",
     "output_type": "stream",
     "text": [
      "tensor([-57.0760], grad_fn=<AddBackward0>)\n"
     ]
    }
   ],
   "source": [
    "''' Testing '''\n",
    "input_size = 28 * 28\n",
    "shuffle = torch.randn(input_size)\n",
    "\n",
    "perceptron = Perceptron(\n",
    "    input_size=input_size\n",
    ")\n",
    "\n",
    "output = perceptron(shuffle)\n",
    "print(output)"
   ]
  }
 ],
 "metadata": {
  "kernelspec": {
   "display_name": "Python 3",
   "language": "python",
   "name": "python3"
  },
  "language_info": {
   "codemirror_mode": {
    "name": "ipython",
    "version": 3
   },
   "file_extension": ".py",
   "mimetype": "text/x-python",
   "name": "python",
   "nbconvert_exporter": "python",
   "pygments_lexer": "ipython3",
   "version": "3.13.7"
  }
 },
 "nbformat": 4,
 "nbformat_minor": 5
}
