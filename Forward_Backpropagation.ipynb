{
 "cells": [
  {
   "cell_type": "markdown",
   "id": "c4a03e62",
   "metadata": {},
   "source": [
    "### ***Multilayer Perceptron and Backpropagation***"
   ]
  },
  {
   "cell_type": "code",
   "execution_count": 185,
   "id": "4ea1d54f",
   "metadata": {},
   "outputs": [],
   "source": [
    "''' Import all important library '''\n",
    "import torch\n",
    "import torch.nn as nn\n",
    "import torch.optim as gredient\n",
    "from torch.utils.data import DataLoader\n",
    "from torchvision import datasets, transforms"
   ]
  },
  {
   "cell_type": "code",
   "execution_count": 186,
   "id": "2aeb8f66",
   "metadata": {},
   "outputs": [
    {
     "name": "stdout",
     "output_type": "stream",
     "text": [
      "Device Name is cpu\n"
     ]
    }
   ],
   "source": [
    "Device = torch.device('cuda' if torch.cuda.is_available() else 'cpu')\n",
    "print(f'Device Name is {Device}')"
   ]
  },
  {
   "cell_type": "markdown",
   "id": "a206cfbc",
   "metadata": {},
   "source": [
    "### ***Data Pipeline***"
   ]
  },
  {
   "cell_type": "code",
   "execution_count": 187,
   "id": "8e674a13",
   "metadata": {},
   "outputs": [
    {
     "data": {
      "text/plain": [
       "'\\nCompose = all number convert between (0 - 1)[pixel_num / 255]\\nstandard division\\n'"
      ]
     },
     "execution_count": 187,
     "metadata": {},
     "output_type": "execute_result"
    }
   ],
   "source": [
    "Transformation = transforms.Compose([\n",
    "    transforms.ToTensor(),\n",
    "    transforms.Normalize(\n",
    "        mean=(0.1307),\n",
    "        std=(0.3181)\n",
    "    )\n",
    "])\n",
    "'''\n",
    "Compose = all number convert between (0 - 1)[pixel_num / 255]\n",
    "standard division\n",
    "'''"
   ]
  },
  {
   "cell_type": "code",
   "execution_count": 188,
   "id": "ec19947b",
   "metadata": {},
   "outputs": [],
   "source": [
    "Train_Dataset = datasets.MNIST(\n",
    "    root='/Users/mahadiur/Desktop/Deep Learning Forward and Backpropagation/Data',\n",
    "    train=True,\n",
    "    download=True,\n",
    "    transform=Transformation\n",
    ")\n",
    "\n",
    "Test_Dataset = datasets.MNIST(\n",
    "    root='/Users/mahadiur/Desktop/Deep Learning Forward and Backpropagation/Data',\n",
    "    train=False,\n",
    "    download=True,\n",
    "    transform=Transformation\n",
    ")"
   ]
  },
  {
   "cell_type": "code",
   "execution_count": 189,
   "id": "c9d71bcc",
   "metadata": {},
   "outputs": [
    {
     "name": "stdout",
     "output_type": "stream",
     "text": [
      "<class 'torchvision.datasets.mnist.MNIST'>\n"
     ]
    }
   ],
   "source": [
    "print(type(Train_Dataset))"
   ]
  },
  {
   "cell_type": "markdown",
   "id": "d7972685",
   "metadata": {},
   "source": [
    "### ***Dataloader***"
   ]
  },
  {
   "cell_type": "code",
   "execution_count": 190,
   "id": "3e689dae",
   "metadata": {},
   "outputs": [],
   "source": [
    "Train_Dataloader = DataLoader(\n",
    "    Train_Dataset,\n",
    "    batch_size=32,\n",
    "    shuffle=True\n",
    ")\n",
    "\n",
    "Test_Dataloader = DataLoader(\n",
    "    Test_Dataset,\n",
    "    batch_size=32,\n",
    "    shuffle=False\n",
    ")"
   ]
  },
  {
   "cell_type": "markdown",
   "id": "31f77757",
   "metadata": {},
   "source": [
    "### ***Perceptron***"
   ]
  },
  {
   "cell_type": "code",
   "execution_count": 191,
   "id": "ab7051f7",
   "metadata": {},
   "outputs": [],
   "source": [
    "class Perceptron(nn.Module):\n",
    "    def __init__(self, input_size):\n",
    "        super(Perceptron, self).__init__()\n",
    "        self.weights = nn.Parameter(torch.randn(input_size))\n",
    "        self.bias = nn.Parameter(torch.randn(1))\n",
    "    \n",
    "    def forward(self, x):\n",
    "        sumation = x @ self.weights + self.bias\n",
    "        return sumation"
   ]
  },
  {
   "cell_type": "code",
   "execution_count": 192,
   "id": "e8986c1a",
   "metadata": {},
   "outputs": [
    {
     "name": "stdout",
     "output_type": "stream",
     "text": [
      "tensor([-59.9092], grad_fn=<AddBackward0>)\n"
     ]
    }
   ],
   "source": [
    "''' Testing '''\n",
    "input_size = 28 * 28\n",
    "shuffle = torch.randn(1, input_size)\n",
    "\n",
    "perceptron = Perceptron(\n",
    "    input_size=input_size\n",
    ")\n",
    "\n",
    "output = perceptron(shuffle)\n",
    "print(output)"
   ]
  },
  {
   "cell_type": "code",
   "execution_count": 193,
   "id": "fe32a2f3",
   "metadata": {},
   "outputs": [
    {
     "data": {
      "text/plain": [
       "'\\nSome import term for image classification:\\n- Batch Size (8, 32, 64, 128)\\n- epoch\\n- Step \\nMNIST Dataset :\\n- Grayscale image \\n- pixel(28 * 28)\\n- 60000 images in MNIST dataset\\n'"
      ]
     },
     "execution_count": 193,
     "metadata": {},
     "output_type": "execute_result"
    }
   ],
   "source": [
    "'''\n",
    "Some import term for image classification:\n",
    "- Batch Size (8, 32, 64, 128)\n",
    "- epoch\n",
    "- Step \n",
    "MNIST Dataset :\n",
    "- Grayscale image \n",
    "- pixel(28 * 28)\n",
    "- 60000 images in MNIST dataset\n",
    "'''"
   ]
  },
  {
   "cell_type": "markdown",
   "id": "2b43f0ec",
   "metadata": {},
   "source": [
    "### ***Activation Function***"
   ]
  },
  {
   "cell_type": "code",
   "execution_count": 194,
   "id": "4a22b9c3",
   "metadata": {},
   "outputs": [],
   "source": [
    "'''\n",
    "Activation Function: RELU (Rectified Linear Unit)\n",
    "Function: max(0, z)  \n",
    "'''\n",
    "class RELU(nn.Module):\n",
    "    def __init__(self):\n",
    "        super(RELU, self).__init__()\n",
    "    def forward(self, x):\n",
    "        return torch.maximum(torch.tensor(0.0), x)"
   ]
  },
  {
   "cell_type": "code",
   "execution_count": 195,
   "id": "fdfd47cb",
   "metadata": {},
   "outputs": [
    {
     "name": "stdout",
     "output_type": "stream",
     "text": [
      "tensor([0.], grad_fn=<MaximumBackward0>)\n"
     ]
    }
   ],
   "source": [
    "relu = RELU()\n",
    "output_relu = relu(output)\n",
    "print(output_relu)"
   ]
  },
  {
   "cell_type": "markdown",
   "id": "03960e7b",
   "metadata": {},
   "source": [
    "### ***Perceptron Hidden Layer***"
   ]
  },
  {
   "cell_type": "code",
   "execution_count": 197,
   "id": "1f7a5c2f",
   "metadata": {},
   "outputs": [
    {
     "name": "stdout",
     "output_type": "stream",
     "text": [
      "tensor([[-66.4359,  26.2814, -16.4357, -56.2052,  -8.2585,  -7.4041,   3.6872,\n",
      "          14.4406, -13.0250,  12.4655]], grad_fn=<StackBackward0>)\n",
      "torch.Size([1, 10])\n"
     ]
    }
   ],
   "source": [
    "''' Perceptron Hidden Layer '''\n",
    "class Linear(nn.Module):\n",
    "    def __init__(self, input_size, output_size):\n",
    "        super().__init__()\n",
    "        self.perceptron = nn.ModuleList([\n",
    "            Perceptron(input_size) for _ in range(output_size)\n",
    "        ])\n",
    "    def forward(self, x):\n",
    "        outputs = [\n",
    "            perceptron(x) for perceptron in self.perceptron\n",
    "        ]\n",
    "        final_output =torch.stack(outputs, dim=1)\n",
    "        return final_output\n",
    "\n",
    "\n",
    "# Testing\n",
    "linear = Linear(input_size,10) \n",
    "output = linear(shuffle)\n",
    "print(output)\n",
    "print(output.shape)"
   ]
  },
  {
   "cell_type": "markdown",
   "id": "8fe54d1f",
   "metadata": {},
   "source": [
    "### ***Digit Classifiar betweet (1, 10)***"
   ]
  },
  {
   "cell_type": "code",
   "execution_count": 203,
   "id": "c80c1f86",
   "metadata": {},
   "outputs": [],
   "source": [
    "class Digitclassifiar(nn.Module):\n",
    "    def __init__(self, input_size=28 * 28, output_size=10):\n",
    "        super().__init__()\n",
    "        self.layer1 = Linear(input_size, 256 )\n",
    "        self.layer2 = Linear(256, 128)\n",
    "        self.layer3 = Linear(128, 64)\n",
    "        self.layer4 = Linear(64, output_size)\n",
    "        self.relu = RELU()\n",
    "    \n",
    "    def forward(self, x):\n",
    "        x = x.view(-1, input_size) # [1 ... 784]\n",
    "        x = self.layer1(x) # [1 ... 256]\n",
    "        x = self.relu(x) # activation function\n",
    "        x = self.layer2(x) # [1...128]\n",
    "        x = self.relu(x)\n",
    "        x = self.layer3(x) # [1...64]\n",
    "        x = self.relu(x)\n",
    "        x = self.layer4(x) # [1...10]\n",
    "        return x"
   ]
  },
  {
   "cell_type": "code",
   "execution_count": 204,
   "id": "b5e68445",
   "metadata": {},
   "outputs": [
    {
     "name": "stdout",
     "output_type": "stream",
     "text": [
      "torch.Size([1, 10])\n",
      "tensor([[-15583.4268,  19430.7344, -21702.2656, -12942.6582,   -311.5664,\n",
      "         -13891.0508,  -3756.3945,  -7307.3623,  24243.7969, -13277.1035]],\n",
      "       grad_fn=<StackBackward0>)\n"
     ]
    }
   ],
   "source": [
    "Model = Digitclassifiar(input_size=28 * 28, output_size=10).to(Device)\n",
    "output = Model(shuffle)\n",
    "print(output.shape)\n",
    "print(output)"
   ]
  }
 ],
 "metadata": {
  "kernelspec": {
   "display_name": "Python 3",
   "language": "python",
   "name": "python3"
  },
  "language_info": {
   "codemirror_mode": {
    "name": "ipython",
    "version": 3
   },
   "file_extension": ".py",
   "mimetype": "text/x-python",
   "name": "python",
   "nbconvert_exporter": "python",
   "pygments_lexer": "ipython3",
   "version": "3.13.7"
  }
 },
 "nbformat": 4,
 "nbformat_minor": 5
}
